{
 "cells": [
  {
   "cell_type": "code",
   "execution_count": 1,
   "metadata": {},
   "outputs": [],
   "source": [
    "from io import StringIO\n",
    "import requests\n",
    "import pandas as pd\n",
    "from bs4 import BeautifulSoup\n",
    "from  datetime import datetime , timedelta\n",
    "import bs4\n",
    "import numpy as np\n",
    "import re"
   ]
  },
  {
   "cell_type": "code",
   "execution_count": 61,
   "metadata": {},
   "outputs": [],
   "source": [
    "url = \"https://www.moneycontrol.com/india/mutualfunds/toprated/12/00/fundratings\"\n",
    "headers = {'User-Agent': 'Mozilla/5.0 (Windows NT 10.0; Win64; x64) AppleWebKit/537.36 (KHTML, like Gecko) Chrome/58.0.3029.110 Safari/537.3'}\n",
    "response = requests.get(url, headers=headers)\n",
    "soup = BeautifulSoup(response.content, 'html.parser')"
   ]
  },
  {
   "cell_type": "code",
   "execution_count": 62,
   "metadata": {},
   "outputs": [],
   "source": [
    "elements = soup.find_all(class_=\"bl_12\")\n",
    "top_mf_url = []\n",
    "for i in elements:\n",
    "    top_mf_url.append(i['href'])\n",
    "\n",
    "top_mf_url = top_mf_url[1:-2]\n",
    "\n",
    "def clean_mutual_fund_name(url):\n",
    "    name = url.split('/')[-2]\n",
    "    cleaned_name = re.sub(r'-', ' ', name).title()\n",
    "    return cleaned_name\n",
    "\n",
    "top_mf = []\n",
    "for i in top_mf_url:\n",
    "    top_mf.append(clean_mutual_fund_name(i))"
   ]
  },
  {
   "cell_type": "code",
   "execution_count": 48,
   "metadata": {},
   "outputs": [],
   "source": [
    "ratios = []\n",
    "yr2 = []\n",
    "yr5 = []\n",
    "for i in top_mf_url:\n",
    "    url = \"https://www.moneycontrol.com/india/\"+i\n",
    "    headers = {'User-Agent': 'Mozilla/5.0 (Windows NT 10.0; Win64; x64) AppleWebKit/537.36 (KHTML, like Gecko) Chrome/58.0.3029.110 Safari/537.3'}\n",
    "    response = requests.get(url, headers=headers)\n",
    "    soup = BeautifulSoup(response.content, 'html.parser')\n",
    "    elements = soup.find_all(class_=\"percentage\")\n",
    "    rat = []\n",
    "    for j in elements:\n",
    "        value = float(str(j.span)[6:-7])\n",
    "        rat.append(value)\n",
    "    ratios.append(rat) \n",
    "\n",
    "    url = \"https://www.moneycontrol.com/india/\"+i\n",
    "    headers = {'User-Agent': 'Mozilla/5.0 (Windows NT 10.0; Win64; x64) AppleWebKit/537.36 (KHTML, like Gecko) Chrome/58.0.3029.110 Safari/537.3'}\n",
    "    response = requests.get(url, headers=headers)\n",
    "    soup = BeautifulSoup(response.content, 'html.parser')\n",
    "\n",
    "    elements = soup.find_all(class_=\"scheme_per_amt prcntreturn 5Y\")\n",
    "    if elements != []:\n",
    "        yr5.append(float(elements[0].get_text().strip()[:-1]))\n",
    "    else:\n",
    "        yr5.append(-1)\n",
    "\n",
    "    url = \"https://www.moneycontrol.com/india/\"+i\n",
    "    headers = {'User-Agent': 'Mozilla/5.0 (Windows NT 10.0; Win64; x64) AppleWebKit/537.36 (KHTML, like Gecko) Chrome/58.0.3029.110 Safari/537.3'}\n",
    "    response = requests.get(url, headers=headers)\n",
    "    soup = BeautifulSoup(response.content, 'html.parser')\n",
    "\n",
    "    elements = soup.find_all(class_=\"scheme_per_amt prcntreturn 2Y\")\n",
    "\n",
    "    if elements != []:\n",
    "        yr2.append(float(elements[0].get_text().strip()[:-1]))\n",
    "    else:\n",
    "        yr2.append(-1)"
   ]
  },
  {
   "cell_type": "code",
   "execution_count": 63,
   "metadata": {},
   "outputs": [],
   "source": [
    "to_remove = []\n",
    "for i in range(len(ratios)):\n",
    "    if len(ratios[i]) < 5 or yr2[i] == -1 or yr5[i] == -1:\n",
    "        to_remove.append(i)\n",
    "\n",
    "for i in to_remove[::-1]:\n",
    "    del top_mf[i]\n",
    "    del ratios[i]\n",
    "    del yr2[i]\n",
    "    del yr5[i]"
   ]
  },
  {
   "cell_type": "code",
   "execution_count": 69,
   "metadata": {},
   "outputs": [],
   "source": [
    "df = pd.DataFrame(ratios)\n",
    "df['cagr2'] = yr2\n",
    "df['cagr5'] = yr5\n",
    "df['mf'] = top_mf\n",
    "df.columns = ['std', 'beta', 'sharpe', 'treynor', 'alpha', 'cagr2', 'cagr5', 'mf']"
   ]
  },
  {
   "cell_type": "code",
   "execution_count": 73,
   "metadata": {},
   "outputs": [],
   "source": [
    "df.to_csv(\"mf_saved.csv\")"
   ]
  },
  {
   "cell_type": "code",
   "execution_count": null,
   "metadata": {},
   "outputs": [],
   "source": []
  }
 ],
 "metadata": {
  "kernelspec": {
   "display_name": "privategpt",
   "language": "python",
   "name": "python3"
  },
  "language_info": {
   "codemirror_mode": {
    "name": "ipython",
    "version": 3
   },
   "file_extension": ".py",
   "mimetype": "text/x-python",
   "name": "python",
   "nbconvert_exporter": "python",
   "pygments_lexer": "ipython3",
   "version": "3.10.2"
  }
 },
 "nbformat": 4,
 "nbformat_minor": 2
}
