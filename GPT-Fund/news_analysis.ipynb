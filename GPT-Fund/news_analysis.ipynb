{
 "cells": [
  {
   "cell_type": "code",
   "execution_count": 1,
   "metadata": {},
   "outputs": [],
   "source": [
    "from bs4 import BeautifulSoup\n",
    "import pandas as pd\n",
    "from urllib.request import urlopen, Request\n",
    "import requests"
   ]
  },
  {
   "cell_type": "code",
   "execution_count": 2,
   "metadata": {},
   "outputs": [],
   "source": [
    "def get_ticks(url):\n",
    "    req = Request(url=url,headers={\"User-Agent\": \"Chrome\"}) \n",
    "    response = urlopen(req)    \n",
    "    html = BeautifulSoup(response,\"html.parser\")\n",
    "    ticks_table = html.find(class_ = 'page')\n",
    "    \n",
    "    ticks = list()\n",
    "    stocks = list()\n",
    "    for name_box in ticks_table.find_all('a', href = True):\n",
    "        stocks.append(name_box.text.strip())\n",
    "        ticks.append(name_box['href'].split('-')[-1].strip())\n",
    "    d = {'stock':stocks, 'tick':ticks}\n",
    "    df = pd.DataFrame(data = d)\n",
    "    return df"
   ]
  },
  {
   "cell_type": "code",
   "execution_count": 4,
   "metadata": {},
   "outputs": [],
   "source": [
    "url = \"https://www.tickertape.in/stocks\"\n",
    "tick_df = get_ticks(url)\n",
    "tick_df.to_csv(\"tickers.csv\")\n"
   ]
  },
  {
   "cell_type": "code",
   "execution_count": 5,
   "metadata": {},
   "outputs": [],
   "source": [
    "def get_news(tick):\n",
    "    url = \"https://www.tickertape.in/stocks/\" + tick + \"#news\"\n",
    "    headers = {'User-Agent': 'Mozilla/5.0 (Windows NT 10.0; Win64; x64) AppleWebKit/537.36 (KHTML, like Gecko) Chrome/58.0.3029.110 Safari/537.3'}\n",
    "    response = requests.get(url, headers=headers)\n",
    "    if response.status_code == 200:\n",
    "        soup = BeautifulSoup(response.content, 'html.parser')\n",
    "        news_table = soup.find(class_ = 'latest-news-holder')    \n",
    "        news_div = soup.find('div', {'id': 'news'})\n",
    "        older_news_div = news_div.find('div', {'data-section-tag': 'olderNews'})\n",
    "        news_divs = older_news_div.select('div.jsx-1359472481 div.jsx-3953764037')\n",
    "        ret1 = []\n",
    "        ret2 = []\n",
    "        no = []\n",
    "        for name_box in news_table.find_all('p', class_='shave-root'):\n",
    "            ret1.append(name_box.text.strip())\n",
    "        for index, news_div in enumerate(news_divs):\n",
    "            title_element = news_div.select_one('h5.news-title')\n",
    "            news_title = ret2.append(title_element.text.strip()) if title_element else no.append(1)\n",
    "        \n",
    "        return list(set(ret1)) + list(set(ret2))"
   ]
  },
  {
   "cell_type": "code",
   "execution_count": 28,
   "metadata": {},
   "outputs": [],
   "source": [
    "tick = \"WIPR\"\n",
    "name = tick_df.stock[tick_df.tick == tick].iloc[0]\n",
    "ret = get_news(tick)\n",
    "news = \"\"\n",
    "for i in ret:\n",
    "    news = news+i+\" \""
   ]
  },
  {
   "cell_type": "code",
   "execution_count": 29,
   "metadata": {},
   "outputs": [
    {
     "name": "stdout",
     "output_type": "stream",
     "text": [
      " Summary:\n",
      "\n",
      "* Wipro's stock price went up despite a decline in net profit in Q3.\n",
      "* Wipro's future growth strategy was discussed by Rishad Premji, addressing leadership concerns.\n",
      "* HDFC Bank and Wipro ADRs plunged.\n",
      "* India Market Open.\n",
      "* NDTV Profit LIVE.\n",
      "* Wipro CEO Thierry Delaporte talked about achievements and targets.\n",
      "* Wipro Q3 earnings beat expectations but analysts are still in 'wait and watch' mode.\n",
      "* Wipro says it sees green shoots in demand, but discretionary spend is still elusive.\n",
      "* Wipro CEO Thierry Delaporte is aligned with the board on targets and achievements.\n",
      "* Wipro's stock jumped 10% after Q3 earnings signaled recovery in tech demand.\n",
      "\n",
      "Suggestion:\n",
      "\n",
      "Based on the news articles, it seems that Wipro's Q3 earnings were better than expected, and the company is optimistic about its future growth. However, there are concerns about discretionary spend, which may impact the company's growth in the short term. Overall, the news suggests that Wipro is in a good position, and its stock is likely to perform well in the long term.\n",
      "\n",
      "Score: 8/10\n"
     ]
    }
   ],
   "source": [
    "# from openai import OpenAI\n",
    "\n",
    "# openai = OpenAI(\n",
    "#     api_key=\"bPdeUDQV6WUDGE6ifWQHult7iii7OWFj\",\n",
    "#     base_url=\"https://api.deepinfra.com/v1/openai\",\n",
    "# )\n",
    "\n",
    "# prompt = f\"Consider yourself a Financial Analyst. You will be given a set of recent news about the stock {name}, ignore the news that might not be relevant. You need to provide a summary of what all the news articles are trying to say and then give a suggestion about the health of the stock. At the end of the analysis, give the stock a score out of 10 based on the health of the stock. The format for score is: Score==<score>\"\n",
    "\n",
    "# chat_completion = openai.chat.completions.create(\n",
    "#     model=\"mistralai/Mistral-7B-Instruct-v0.1\",\n",
    "#     messages=[\n",
    "#         {\"role\": \"system\", \"content\": news},\n",
    "#         {\"role\": \"user\", \"content\": prompt},\n",
    "#     ],\n",
    "#     temperature=0.5\n",
    "# )\n",
    "\n",
    "# print(chat_completion.choices[0].message.content)\n"
   ]
  },
  {
   "cell_type": "code",
   "execution_count": null,
   "metadata": {},
   "outputs": [],
   "source": []
  }
 ],
 "metadata": {
  "kernelspec": {
   "display_name": "Python 3",
   "language": "python",
   "name": "python3"
  },
  "language_info": {
   "codemirror_mode": {
    "name": "ipython",
    "version": 3
   },
   "file_extension": ".py",
   "mimetype": "text/x-python",
   "name": "python",
   "nbconvert_exporter": "python",
   "pygments_lexer": "ipython3",
   "version": "3.11.4"
  }
 },
 "nbformat": 4,
 "nbformat_minor": 2
}
